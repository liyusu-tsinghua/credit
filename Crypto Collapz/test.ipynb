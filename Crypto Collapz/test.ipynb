{
 "cells": [
  {
   "cell_type": "code",
   "execution_count": 1,
   "metadata": {},
   "outputs": [],
   "source": [
    "import functions\n",
    "from functions import *"
   ]
  },
  {
   "cell_type": "code",
   "execution_count": 2,
   "metadata": {},
   "outputs": [
    {
     "name": "stdout",
     "output_type": "stream",
     "text": [
      "4\n",
      "4\n",
      "16\n",
      "4\n",
      "16\n",
      "16\n",
      "52\n",
      "8\n",
      "52\n",
      "16\n"
     ]
    }
   ],
   "source": [
    "#test for Crypto Collapz pass\n",
    "for i in range(1,11):\n",
    "    print(max421(i))"
   ]
  },
  {
   "cell_type": "code",
   "execution_count": null,
   "metadata": {},
   "outputs": [],
   "source": []
  }
 ],
 "metadata": {
  "kernelspec": {
   "display_name": "Python 3.10.2 ('qf5203')",
   "language": "python",
   "name": "python3"
  },
  "language_info": {
   "codemirror_mode": {
    "name": "ipython",
    "version": 3
   },
   "file_extension": ".py",
   "mimetype": "text/x-python",
   "name": "python",
   "nbconvert_exporter": "python",
   "pygments_lexer": "ipython3",
   "version": "3.10.2"
  },
  "orig_nbformat": 4,
  "vscode": {
   "interpreter": {
    "hash": "67ec681dbc08b49ff4f227cf103a2665386723297797a0d1a634680e8ea15c00"
   }
  }
 },
 "nbformat": 4,
 "nbformat_minor": 2
}
