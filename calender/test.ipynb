{
 "cells": [
  {
   "cell_type": "code",
   "execution_count": 1,
   "metadata": {},
   "outputs": [],
   "source": [
    "import functions\n",
    "from functions import *"
   ]
  },
  {
   "cell_type": "code",
   "execution_count": 2,
   "metadata": {},
   "outputs": [],
   "source": [
    "#{\"request\":{\"numbers\":[2023,4,5,37,32,33,35,36,65,60,93,96,92,122,123,124,127,153,185,186,188,182,183,214,249,250,246,275,277,278,279,280,274,305,306,307,308,338,339]},\"response\":{\"part1\":\"  wt   ,m wt ss,m w    ,m  t  s, twt  s,    f  , tw fss,  w    ,  wt  s,m wtfss,  wtfs ,mt     ,\",\"part2\":[2001,3,4,36,38,32,34,35,64,66,92,95,91,121,122,123,126,152,184,185,187,188,182,213,248,249,245,274,276,277,278,279,280,311,305,306,307,337,338]}}\n",
    "\n",
    "input_list = [2023,4,5,37,32,33,35,36,65,60,93,96,92,122,123,124,127,153,185,186,188,182,183,214,249,250,246,275,277,278,279,280,274,305,306,307,308,338,339]\n",
    "answer_p1 = \"  wt   ,m wt ss,m w    ,m  t  s, twt  s,    f  , tw fss,  w    ,  wt  s,m wtfss,  wtfs ,mt     ,\"\n",
    "answer_p2 = [2001,3,4,36,38,32,34,35,64,66,92,95,91,121,122,123,126,152,184,185,187,188,182,213,248,249,245,274,276,277,278,279,280,311,305,306,307,337,338]\n"
   ]
  },
  {
   "cell_type": "code",
   "execution_count": 3,
   "metadata": {},
   "outputs": [
    {
     "data": {
      "text/plain": [
       "True"
      ]
     },
     "execution_count": 3,
     "metadata": {},
     "output_type": "execute_result"
    }
   ],
   "source": [
    "#test calender part 1\n",
    "myanswer1 = calender_part1(input_list)\n",
    "myanswer1==answer_p1"
   ]
  },
  {
   "cell_type": "code",
   "execution_count": 4,
   "metadata": {},
   "outputs": [
    {
     "name": "stdout",
     "output_type": "stream",
     "text": [
      "True\n",
      "True\n"
     ]
    }
   ],
   "source": [
    "#test calender part 2\n",
    "myanswer2 = calender_part2(myanswer1)\n",
    "print(myanswer2[0]==answer_p2[0])\n",
    "print(calender_part1(myanswer2)==myanswer1)"
   ]
  }
 ],
 "metadata": {
  "kernelspec": {
   "display_name": "Python 3.10.2 ('qf5203')",
   "language": "python",
   "name": "python3"
  },
  "language_info": {
   "codemirror_mode": {
    "name": "ipython",
    "version": 3
   },
   "file_extension": ".py",
   "mimetype": "text/x-python",
   "name": "python",
   "nbconvert_exporter": "python",
   "pygments_lexer": "ipython3",
   "version": "3.10.2"
  },
  "orig_nbformat": 4,
  "vscode": {
   "interpreter": {
    "hash": "67ec681dbc08b49ff4f227cf103a2665386723297797a0d1a634680e8ea15c00"
   }
  }
 },
 "nbformat": 4,
 "nbformat_minor": 2
}
