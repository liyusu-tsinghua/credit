{
 "cells": [
  {
   "cell_type": "code",
   "execution_count": 1,
   "metadata": {},
   "outputs": [],
   "source": [
    "import functions\n",
    "from functions import *"
   ]
  },
  {
   "cell_type": "code",
   "execution_count": 2,
   "metadata": {},
   "outputs": [
    {
     "data": {
      "text/plain": [
       "array([[150., 100., 150., ..., 100., 150., 100.],\n",
       "       [150., 100., 150., ..., 100., 150., 100.],\n",
       "       [150., 100., 150., ..., 100., 150., 100.],\n",
       "       ...,\n",
       "       [150., 100., 150., ..., 100., 150., 100.],\n",
       "       [150., 100., 150., ..., 100., 150., 100.],\n",
       "       [150., 100., 150., ..., 100., 150., 100.]])"
      ]
     },
     "execution_count": 2,
     "metadata": {},
     "output_type": "execute_result"
    }
   ],
   "source": [
    "capacity34"
   ]
  },
  {
   "cell_type": "code",
   "execution_count": 3,
   "metadata": {},
   "outputs": [],
   "source": [
    "x = [\n",
    "  {\n",
    "    \"part1\": {\n",
    "      \"flow_rate\": 20,\n",
    "      \"time\": 1,\n",
    "      \"row_number\": 0,\n",
    "      \"col_number\": 0\n",
    "    },\n",
    "    \"part2\": {\n",
    "      \"flow_rate\": 10,\n",
    "      \"amount_of_soup\": 10.00,\n",
    "      \"row_number\": 0,\n",
    "      \"col_number\": 0\n",
    "    },\n",
    "    \"part3\": {\n",
    "      \"flow_rate\": 30,\n",
    "      \"time\": 2,\n",
    "      \"row_number\": 0,\n",
    "      \"col_number\": 0\n",
    "    },\n",
    "    \"part4\": {\n",
    "      \"flow_rate\": 50,\n",
    "      \"amount_of_soup\": 100.00,\n",
    "      \"row_number\": 0,\n",
    "      \"col_number\": 0\n",
    "    }\n",
    "  },\n",
    "  {\n",
    "    \"part1\": {\n",
    "      \"flow_rate\": 23,\n",
    "      \"time\": 1,\n",
    "      \"row_number\": 0,\n",
    "      \"col_number\": 0\n",
    "    },\n",
    "    \"part2\": {\n",
    "      \"flow_rate\": 17,\n",
    "      \"amount_of_soup\": 34.00,\n",
    "      \"row_number\": 0,\n",
    "      \"col_number\": 0\n",
    "    },\n",
    "    \"part3\": {\n",
    "      \"flow_rate\": 36,\n",
    "      \"time\": 1,\n",
    "      \"row_number\": 0,\n",
    "      \"col_number\": 0\n",
    "    },\n",
    "    \"part4\": {\n",
    "      \"flow_rate\": 5,\n",
    "      \"amount_of_soup\": 20.00,\n",
    "      \"row_number\": 0,\n",
    "      \"col_number\": 0\n",
    "    }\n",
    "  }\n",
    "]"
   ]
  },
  {
   "cell_type": "code",
   "execution_count": 4,
   "metadata": {},
   "outputs": [
    {
     "data": {
      "text/plain": [
       "[{'part1': 20.0, 'part2': 1, 'part3': 60.0, 'part4': 2},\n",
       " {'part1': 23.0, 'part2': 2, 'part3': 36.0, 'part4': 4}]"
      ]
     },
     "execution_count": 4,
     "metadata": {},
     "output_type": "execute_result"
    }
   ],
   "source": [
    "all(x)"
   ]
  }
 ],
 "metadata": {
  "kernelspec": {
   "display_name": "Python 3.8.8",
   "language": "python",
   "name": "python3"
  },
  "language_info": {
   "codemirror_mode": {
    "name": "ipython",
    "version": 3
   },
   "file_extension": ".py",
   "mimetype": "text/x-python",
   "name": "python",
   "nbconvert_exporter": "python",
   "pygments_lexer": "ipython3",
   "version": "3.8.8"
  },
  "orig_nbformat": 4,
  "vscode": {
   "interpreter": {
    "hash": "5c6a559f5b76f8d125c86eedc1aa50706b492b5101209d42ee409a0991aa971b"
   }
  }
 },
 "nbformat": 4,
 "nbformat_minor": 2
}
